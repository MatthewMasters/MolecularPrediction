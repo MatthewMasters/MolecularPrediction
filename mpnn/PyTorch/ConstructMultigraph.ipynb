{
 "cells": [
  {
   "cell_type": "code",
   "execution_count": 1,
   "metadata": {},
   "outputs": [],
   "source": [
    "import pandas as pd\n",
    "import numpy as np\n",
    "import pickle\n",
    "import os\n",
    "from collections import OrderedDict\n",
    "from glob import glob\n",
    "from tqdm import tqdm\n",
    "from file_handling import *"
   ]
  },
  {
   "cell_type": "code",
   "execution_count": 2,
   "metadata": {},
   "outputs": [],
   "source": [
    "dataset_dir = '/home/matthew/Programming/Kaggle/MolecularProperties/dataset'"
   ]
  },
  {
   "cell_type": "code",
   "execution_count": 3,
   "metadata": {},
   "outputs": [],
   "source": [
    "atom_indicies = {\n",
    "    'H' : 0,\n",
    "    'C' : 1,\n",
    "    'O' : 2,\n",
    "    'N' : 3,\n",
    "    'P' : 4,\n",
    "    'S' : 5,\n",
    "    'CL' : 6,\n",
    "    'BR' : 6,\n",
    "    'F' : 6,\n",
    "    'I' : 6\n",
    "}\n",
    "\n",
    "bond_indicies = {\n",
    "    '1' : 0,\n",
    "    '2' : 1,\n",
    "    '3' : 2,\n",
    "    'am' : 3,\n",
    "    'ar' : 4\n",
    "}"
   ]
  },
  {
   "cell_type": "code",
   "execution_count": 4,
   "metadata": {},
   "outputs": [],
   "source": [
    "def constructMultiGraph(mol):\n",
    "    ligand_path = os.path.join(dataset_dir,'structures/%s.mol2' % mol)\n",
    "    atom_df,bond_df = read_mol2(ligand_path)\n",
    "\n",
    "    lig_coords = atom_df[['x','y','z']].values\n",
    "\n",
    "    g = OrderedDict({}) # Bond information\n",
    "    h = OrderedDict({}) # Atom information\n",
    "\n",
    "    for idx,row in atom_df.iterrows(): # Build graph of ligand atoms\n",
    "        atom_id = row.atom_id\n",
    "        atom_type = str(row.atom_type.split('.')[0]).upper()\n",
    "        atom_idx = atom_indicies[atom_type]\n",
    "        fp = np.zeros((7),dtype=np.int32) # Atom type one-hot\n",
    "        fp[atom_idx] = 1\n",
    "        h[atom_id] = list(fp)\n",
    "        connected = list(bond_df[bond_df.atom_A == atom_id].atom_B.values)\n",
    "        connected.extend(bond_df[bond_df.atom_B == atom_id].atom_A.values)\n",
    "        for bond in connected:\n",
    "            bfp = np.zeros((5),dtype=np.int32) # Bond type one-hot\n",
    "            bfp[0] = 1 # Covalent bond\n",
    "            bfp = list(bfp)\n",
    "            if atom_id not in g:\n",
    "                g[atom_id] = []\n",
    "            g[atom_id].append((bfp,bond))\n",
    "\n",
    "    return g,h"
   ]
  },
  {
   "cell_type": "code",
   "execution_count": 5,
   "metadata": {},
   "outputs": [],
   "source": [
    "def saveMultiGraph(mol,g,h):\n",
    "    fname = '%s_g.pkl' % mol\n",
    "    f_path = os.path.join(dataset_dir,'multigraphs',fname)\n",
    "    with open(f_path, 'wb') as f:\n",
    "        pickle.dump(g,f)\n",
    "    fname = '%s_h.pkl' % mol\n",
    "    f_path = os.path.join(dataset_dir,'multigraphs',fname)\n",
    "    with open(f_path, 'wb') as f:\n",
    "        pickle.dump(h,f)"
   ]
  },
  {
   "cell_type": "code",
   "execution_count": 6,
   "metadata": {},
   "outputs": [
    {
     "name": "stderr",
     "output_type": "stream",
     "text": [
      "100%|██████████| 85003/85003 [48:47<00:00, 29.04it/s]\n"
     ]
    }
   ],
   "source": [
    "train_df = pd.read_csv(os.path.join(dataset_dir,'train.csv'))\n",
    "    for mol in tqdm(pd.unique(train_df.molecule_name)):\n",
    "        try:\n",
    "            g,h = constructMultiGraph(mol)\n",
    "            saveMultiGraph(mol,g,h)\n",
    "        except:\n",
    "            print('MultiGraph Error')"
   ]
  },
  {
   "cell_type": "code",
   "execution_count": 7,
   "metadata": {},
   "outputs": [
    {
     "name": "stderr",
     "output_type": "stream",
     "text": [
      "100%|██████████| 45772/45772 [26:17<00:00, 29.01it/s]\n"
     ]
    }
   ],
   "source": [
    "test_df = pd.read_csv(os.path.join(dataset_dir,'test.csv'))\n",
    "for mol in tqdm(pd.unique(test_df.molecule_name)):\n",
    "    try:\n",
    "        g,h = constructMultiGraph(mol)\n",
    "        saveMultiGraph(mol,g,h)\n",
    "    except:\n",
    "        print('MultiGraph Error')"
   ]
  },
  {
   "cell_type": "code",
   "execution_count": null,
   "metadata": {},
   "outputs": [],
   "source": []
  }
 ],
 "metadata": {
  "kernelspec": {
   "display_name": "Python (ML)",
   "language": "python",
   "name": "ml"
  },
  "language_info": {
   "codemirror_mode": {
    "name": "ipython",
    "version": 3
   },
   "file_extension": ".py",
   "mimetype": "text/x-python",
   "name": "python",
   "nbconvert_exporter": "python",
   "pygments_lexer": "ipython3",
   "version": "3.6.7"
  }
 },
 "nbformat": 4,
 "nbformat_minor": 2
}
