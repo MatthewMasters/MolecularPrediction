{
 "cells": [
  {
   "cell_type": "code",
   "execution_count": 50,
   "metadata": {},
   "outputs": [],
   "source": [
    "import pandas as pd\n",
    "import numpy as np\n",
    "import pickle\n",
    "import os\n",
    "from collections import OrderedDict\n",
    "from glob import glob\n",
    "from tqdm import tqdm"
   ]
  },
  {
   "cell_type": "code",
   "execution_count": 51,
   "metadata": {},
   "outputs": [],
   "source": [
    "dataset_dir = '/home/matthew/Programming/Kaggle/MolecularProperties/dataset'"
   ]
  },
  {
   "cell_type": "code",
   "execution_count": 56,
   "metadata": {},
   "outputs": [],
   "source": [
    "def readMultiGraph(mol):\n",
    "    fname = '%s_g.pkl' % mol\n",
    "    f_path = os.path.join(dataset_dir,'multigraphs',fname)\n",
    "    with open(f_path, 'rb') as read_file:\n",
    "        g = pickle.load(read_file)\n",
    "    fname = '%s_h.pkl' % mol\n",
    "    f_path = os.path.join(dataset_dir,'multigraphs',fname)\n",
    "    with open(f_path, 'rb') as read_file:\n",
    "        h = pickle.load(read_file)\n",
    "    return g,h"
   ]
  },
  {
   "cell_type": "code",
   "execution_count": 57,
   "metadata": {},
   "outputs": [],
   "source": [
    "def h_to_nodes(h):\n",
    "    nodes = []\n",
    "    for h_i in h.keys():\n",
    "        nodes.append(h[h_i])\n",
    "    return np.array(nodes)\n",
    "\n",
    "def g_to_pairs(g):\n",
    "    pairs = np.zeros((len(g),len(g),5))\n",
    "    for i in g.keys():\n",
    "        g_i = g[i]\n",
    "        for g_j in g_i:\n",
    "            feat,j = g_j\n",
    "            pairs[i-1,j-1] = feat\n",
    "    return pairs"
   ]
  },
  {
   "cell_type": "code",
   "execution_count": 59,
   "metadata": {},
   "outputs": [],
   "source": [
    "train_df = pd.read_csv('/home/matthew/Programming/Kaggle/MolecularProperties/dataset/train.csv')"
   ]
  },
  {
   "cell_type": "code",
   "execution_count": 60,
   "metadata": {},
   "outputs": [],
   "source": [
    "test_df = pd.read_csv('/home/matthew/Programming/Kaggle/MolecularProperties/dataset/test.csv')"
   ]
  },
  {
   "cell_type": "code",
   "execution_count": 61,
   "metadata": {},
   "outputs": [
    {
     "name": "stderr",
     "output_type": "stream",
     "text": [
      "100%|██████████| 45772/45772 [01:00<00:00, 761.46it/s]\n"
     ]
    }
   ],
   "source": [
    "for mol in tqdm(pd.unique(test_df.molecule_name)):\n",
    "    g,h = readMultiGraph(mol)\n",
    "    nodes = h_to_nodes(h)\n",
    "    pairs = g_to_pairs(g)\n",
    "    nodes_file = os.path.join(dataset_dir,'dc_graphs','%s_nodes.npy' % mol)\n",
    "    pairs_file = os.path.join(dataset_dir,'dc_graphs','%s_pairs.npy' % mol)\n",
    "    np.save(nodes_file,nodes)\n",
    "    np.save(pairs_file,pairs)"
   ]
  },
  {
   "cell_type": "code",
   "execution_count": 63,
   "metadata": {},
   "outputs": [
    {
     "name": "stdout",
     "output_type": "stream",
     "text": [
      "   id     molecule_name  atom_index_0  atom_index_1  type  \\\n",
      "0   0  dsgdb9nsd_000001             1             0  1JHC   \n",
      "\n",
      "   scalar_coupling_constant  \n",
      "0                   84.8076  \n"
     ]
    }
   ],
   "source": [
    "print(train_df.head(1))"
   ]
  },
  {
   "cell_type": "code",
   "execution_count": null,
   "metadata": {},
   "outputs": [],
   "source": []
  },
  {
   "cell_type": "code",
   "execution_count": null,
   "metadata": {},
   "outputs": [],
   "source": []
  }
 ],
 "metadata": {
  "kernelspec": {
   "display_name": "Python (ML)",
   "language": "python",
   "name": "ml"
  },
  "language_info": {
   "codemirror_mode": {
    "name": "ipython",
    "version": 3
   },
   "file_extension": ".py",
   "mimetype": "text/x-python",
   "name": "python",
   "nbconvert_exporter": "python",
   "pygments_lexer": "ipython3",
   "version": "3.6.7"
  }
 },
 "nbformat": 4,
 "nbformat_minor": 2
}
